{
 "cells": [
  {
   "cell_type": "code",
   "execution_count": null,
   "id": "bee8b8d1",
   "metadata": {},
   "outputs": [],
   "source": [
    "import random\n",
    "def g_num():\n",
    "    num=random.randint(1000,9999)\n",
    "    if(dup(num)):\n",
    "        return(num)\n",
    "    else:\n",
    "        g_num() \n",
    "          \n",
    "def dup(n):      \n",
    "    s=set(str(n))\n",
    "    if (len(s)==len(str(n))):\n",
    "        return True\n",
    "    else:\n",
    "        return False\n",
    "\n",
    "    \n",
    "def play():\n",
    "    n=g_num()\n",
    "    print(n)\n",
    "    ch=0\n",
    "    while ch!=1:\n",
    "        u_n=input(\"enter the 4-digit number\")\n",
    "        if(len(u_n)!=4):\n",
    "            print(\"enter the number again\")\n",
    "        else:\n",
    "            c,b=0,0\n",
    "            s=str(n)\n",
    "            for i in range(4):\n",
    "                if(u_n[i] in s):\n",
    "                    e=s.index(u_n[i])\n",
    "                    if(e==i):\n",
    "                        b+=1\n",
    "                    else:\n",
    "                        c+=1\n",
    "            if(b==4):\n",
    "                print(\"your guess is right!!!\")\n",
    "                print(\"cows:{} bulls:{}\".format(c,b))\n",
    "                ch=1\n",
    "            else:\n",
    "                print(\"your guess is wrong!!!\")\n",
    "                print(\"cows:{} bulls:{}\".format(c,b))\n",
    "                ch=-1\n",
    "            \n",
    "\n",
    "play()\n",
    "        \n",
    "\n",
    "        \n",
    "    "
   ]
  },
  {
   "cell_type": "code",
   "execution_count": 2,
   "id": "db9b0384",
   "metadata": {},
   "outputs": [
    {
     "data": {
      "text/plain": [
       "{'1', '7'}"
      ]
     },
     "execution_count": 2,
     "metadata": {},
     "output_type": "execute_result"
    }
   ],
   "source": [
    "set(str(1177))"
   ]
  }
 ],
 "metadata": {
  "kernelspec": {
   "display_name": "Python 3",
   "language": "python",
   "name": "python3"
  },
  "language_info": {
   "codemirror_mode": {
    "name": "ipython",
    "version": 3
   },
   "file_extension": ".py",
   "mimetype": "text/x-python",
   "name": "python",
   "nbconvert_exporter": "python",
   "pygments_lexer": "ipython3",
   "version": "3.8.8"
  }
 },
 "nbformat": 4,
 "nbformat_minor": 5
}
