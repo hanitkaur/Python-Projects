{
 "cells": [
  {
   "cell_type": "markdown",
   "id": "b0c2e357",
   "metadata": {},
   "source": [
    "# MORSE CODE TRANSLATOR\n"
   ]
  },
  {
   "cell_type": "markdown",
   "id": "0d2d1538",
   "metadata": {},
   "source": [
    "Algorithm:-\n",
    "\n",
    "#Encryption\n",
    "\n",
    "Step1: Given a string, at first we extract each letter from the word and match with the Morse Code dictionary, then we consider the code corresponding the letter.\n",
    "\n",
    "Step2: Next step is to store the code into a variable. And we have to follow that one space should be maintained between every Morse code.\n",
    "\n",
    "Step3: Two spaces should be maintained in between every word.\n",
    "\n",
    "#Decryption\n",
    "\n",
    "Step1: First we add a space at the end of the string.\n",
    "\n",
    "Step2: Now we traverse each letter of the message until space is not encountered.\n",
    "\n",
    "Step3: When we get space then check with Morse Code Dictionary and store in a variable.\n",
    "\n",
    "Step4: When get 2 consecutive spaces we will add another space to our variable containing the decoded string.\n",
    "\n",
    "Step5: When get last space of the message that means this is the last letter of Morse Code Translator"
   ]
  },
  {
   "cell_type": "code",
   "execution_count": 35,
   "id": "01ec0513",
   "metadata": {},
   "outputs": [
    {
     "name": "stdout",
     "output_type": "stream",
     "text": [
      "enter 1 for encryption and 2 for decryption2\n",
      " enter your message to be converted.... . .-.. .--.   -- . \n",
      ".\n",
      "..\n",
      "...\n",
      "....\n",
      ".\n",
      ".\n",
      ".-\n",
      ".-.\n",
      ".-..\n",
      ".\n",
      ".-\n",
      ".--\n",
      ".--.\n",
      "-\n",
      "--\n",
      ".\n",
      "HELP ME\n"
     ]
    }
   ],
   "source": [
    "mcd={'A':'.-', 'B':'-...', 'C':'-.-.', 'D':'-..', 'E':'.','F':'..-.', 'G':'--.', 'H':'....','I':'..', 'J':'.---', 'K':'-.-',\n",
    "     'L':'.-..','M':'--','N':'-.','O':'---', 'P':'.--.', 'Q':'--.-', 'R':'.-.', 'S':'...', 'T':'-','U':'..-', 'V':'...-', \n",
    "     'W':'.--','X':'-..-', 'Y':'-.--', 'Z':'--..', '1':'.----', '2':'..---', '3':'...--', '4':'....-', '5':'.....', '6':'-....',\n",
    "     '7':'--...', '8':'---..', '9':'----.', '0':'-----', ', ':'--..--', '.':'.-.-.-','?':'..--..', '/':'-..-.', \n",
    "     '-':'-....-','(':'-.--.', ')':'-.--.-','&':'.-...','@':'.--.-.'}\n",
    "def encrypt(message):\n",
    "    c=''\n",
    "    for i in message:\n",
    "        if i!=' ':\n",
    "            s=mcd[i]\n",
    "            c=c+s+' '\n",
    "        else:\n",
    "            c=c+'  '\n",
    "    return c\n",
    "\n",
    "def decrypt(n):\n",
    "    l=list(mcd.values())\n",
    "    l1=list(mcd.items())\n",
    "    d=''\n",
    "    w=''\n",
    "    s=0\n",
    "    for i in n:\n",
    "        if i !=' ':\n",
    "            w+=i\n",
    "        else:\n",
    "            s+=1\n",
    "            if s==2:\n",
    "                    d=d+' '\n",
    "            else: \n",
    "                if w!='':\n",
    "                    x=l.index(w)\n",
    "                    k=l1[x][0]\n",
    "                    d=d+k\n",
    "                    w=''\n",
    "                    s=0\n",
    "    return d\n",
    "                \n",
    "v=int(input(\"enter 1 for encryption and 2 for decryption\"))   \n",
    "if v==1:\n",
    "    n=input(\" enter your message to be converted\")\n",
    "    m=n.upper()\n",
    "    encrypt(m)\n",
    "elif v==2:\n",
    "    n=input(\" enter your message to be converted\")\n",
    "    print(decrypt(n))\n",
    "else:\n",
    "    print(\"wrong value\")"
   ]
  },
  {
   "cell_type": "code",
   "execution_count": null,
   "id": "af0d31ed",
   "metadata": {},
   "outputs": [],
   "source": []
  },
  {
   "cell_type": "code",
   "execution_count": null,
   "id": "80e90584",
   "metadata": {},
   "outputs": [],
   "source": []
  }
 ],
 "metadata": {
  "kernelspec": {
   "display_name": "Python 3",
   "language": "python",
   "name": "python3"
  },
  "language_info": {
   "codemirror_mode": {
    "name": "ipython",
    "version": 3
   },
   "file_extension": ".py",
   "mimetype": "text/x-python",
   "name": "python",
   "nbconvert_exporter": "python",
   "pygments_lexer": "ipython3",
   "version": "3.8.8"
  }
 },
 "nbformat": 4,
 "nbformat_minor": 5
}
